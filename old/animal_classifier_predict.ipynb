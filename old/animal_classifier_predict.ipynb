{
 "cells": [
  {
   "cell_type": "markdown",
   "id": "61329ad5",
   "metadata": {},
   "source": [
    "# Animal Classifier Predictions\n",
    "\n",
    "Make predictions on a trained animal classifier model"
   ]
  },
  {
   "cell_type": "code",
   "execution_count": 108,
   "id": "8708b92a",
   "metadata": {},
   "outputs": [],
   "source": [
    "import os\n",
    "import pathlib\n",
    "import numpy as np\n",
    "import tensorflow as tf\n",
    "import matplotlib.pyplot as plt\n",
    "import PIL"
   ]
  },
  {
   "cell_type": "markdown",
   "id": "3d73d886",
   "metadata": {},
   "source": [
    "Load a trained image classifying model:"
   ]
  },
  {
   "cell_type": "code",
   "execution_count": 109,
   "id": "6b969443",
   "metadata": {},
   "outputs": [],
   "source": [
    "model = tf.keras.models.load_model('saved_models/cnn_model.h5')"
   ]
  },
  {
   "cell_type": "markdown",
   "id": "3a8d135f",
   "metadata": {},
   "source": [
    "Model summary:"
   ]
  },
  {
   "cell_type": "code",
   "execution_count": 110,
   "id": "f1a72aae",
   "metadata": {
    "scrolled": false
   },
   "outputs": [
    {
     "name": "stdout",
     "output_type": "stream",
     "text": [
      "Model: \"cnn_model_one\"\n",
      "_________________________________________________________________\n",
      " Layer (type)                Output Shape              Param #   \n",
      "=================================================================\n",
      " rescaling_4 (Rescaling)     (None, 224, 224, 3)       0         \n",
      "                                                                 \n",
      " conv2d (Conv2D)             (None, 224, 224, 16)      448       \n",
      "                                                                 \n",
      " max_pooling2d (MaxPooling2D  (None, 112, 112, 16)     0         \n",
      " )                                                               \n",
      "                                                                 \n",
      " conv2d_1 (Conv2D)           (None, 112, 112, 32)      4640      \n",
      "                                                                 \n",
      " max_pooling2d_1 (MaxPooling  (None, 56, 56, 32)       0         \n",
      " 2D)                                                             \n",
      "                                                                 \n",
      " conv2d_2 (Conv2D)           (None, 56, 56, 64)        18496     \n",
      "                                                                 \n",
      " max_pooling2d_2 (MaxPooling  (None, 28, 28, 64)       0         \n",
      " 2D)                                                             \n",
      "                                                                 \n",
      " flatten_4 (Flatten)         (None, 50176)             0         \n",
      "                                                                 \n",
      " dense_11 (Dense)            (None, 128)               6422656   \n",
      "                                                                 \n",
      " dense_12 (Dense)            (None, 151)               19479     \n",
      "                                                                 \n",
      "=================================================================\n",
      "Total params: 6,465,719\n",
      "Trainable params: 6,465,719\n",
      "Non-trainable params: 0\n",
      "_________________________________________________________________\n"
     ]
    }
   ],
   "source": [
    "model.summary()"
   ]
  },
  {
   "cell_type": "markdown",
   "id": "33749fe9",
   "metadata": {},
   "source": [
    "Load class_names.json containing animal class names"
   ]
  },
  {
   "cell_type": "code",
   "execution_count": 111,
   "id": "2e88e608",
   "metadata": {},
   "outputs": [],
   "source": [
    "import json\n",
    "\n",
    "f = open('class_names.json')\n",
    "data = json.load(f)\n",
    "\n",
    "class_names = data[\"class_names\"]\n",
    "no_of_classes = data[\"no_of_classes\"]"
   ]
  },
  {
   "cell_type": "markdown",
   "id": "d73920d0",
   "metadata": {},
   "source": [
    "Load the image from a local directory:"
   ]
  },
  {
   "cell_type": "code",
   "execution_count": 112,
   "id": "a8564ffd",
   "metadata": {},
   "outputs": [],
   "source": [
    "image_url = r\"C:\\Users\\Purav Parab\\Documents\\ML\\projects\\animal_classifier\\examples\\default_cat.png\""
   ]
  },
  {
   "cell_type": "markdown",
   "id": "d0d86a79",
   "metadata": {},
   "source": [
    "Display image:"
   ]
  },
  {
   "cell_type": "code",
   "execution_count": 113,
   "id": "112ef36b",
   "metadata": {},
   "outputs": [
    {
     "data": {
      "image/png": "[encoded data removed]",
      "text/plain": [
       "<PIL.PngImagePlugin.PngImageFile image mode=RGBA size=244x244>"
      ]
     },
     "execution_count": 113,
     "metadata": {},
     "output_type": "execute_result"
    }
   ],
   "source": [
    "PIL.Image.open(image_url)"
   ]
  },
  {
   "cell_type": "markdown",
   "id": "9245b69e",
   "metadata": {},
   "source": [
    "Specify image width and height:"
   ]
  },
  {
   "cell_type": "code",
   "execution_count": 114,
   "id": "6b501311",
   "metadata": {},
   "outputs": [],
   "source": [
    "image_width = 224\n",
    "image_height = 224"
   ]
  },
  {
   "cell_type": "markdown",
   "id": "4828711c",
   "metadata": {},
   "source": [
    "Modify image to be analysed by the model"
   ]
  },
  {
   "cell_type": "code",
   "execution_count": 115,
   "id": "a330d594",
   "metadata": {},
   "outputs": [],
   "source": [
    "img = tf.keras.utils.load_img(\n",
    "    image_url, target_size=(image_width, image_height)\n",
    ")\n",
    "img_array = tf.keras.utils.img_to_array(img)\n",
    "img_array = tf.expand_dims(img_array, 0) # Create a batch"
   ]
  },
  {
   "cell_type": "markdown",
   "id": "1a3398fd",
   "metadata": {},
   "source": [
    "# Image Prediction\n",
    "Make a prediction with the trained model"
   ]
  },
  {
   "cell_type": "code",
   "execution_count": 116,
   "id": "d1dc7cb3",
   "metadata": {},
   "outputs": [
    {
     "name": "stdout",
     "output_type": "stream",
     "text": [
      "1/1 [==============================] - 0s 129ms/step\n"
     ]
    }
   ],
   "source": [
    "predictions = model.predict(img_array)\n",
    "score = tf.nn.softmax(predictions[0])"
   ]
  },
  {
   "cell_type": "markdown",
   "id": "e1c7f42a",
   "metadata": {},
   "source": [
    "Model prediction:"
   ]
  },
  {
   "cell_type": "code",
   "execution_count": 117,
   "id": "94d34db4",
   "metadata": {},
   "outputs": [
    {
     "name": "stdout",
     "output_type": "stream",
     "text": [
      "60\n",
      "This image most likely belongs to Cat (felis-catus) with a 100.00% confidence. \n",
      "\n"
     ]
    }
   ],
   "source": [
    "prediction_index = np.argmax(score)\n",
    "print(prediction_index)\n",
    "if tf.get_static_value(score[prediction_index]) * 100 > 90:\n",
    "    key = list(class_names[prediction_index].keys())[0]\n",
    "    value = class_names[prediction_index][key]\n",
    "    print(\n",
    "        \"This image most likely belongs to {} ({}) with a {:.2f}% confidence. \\n\"\n",
    "        .format(value, key, 100 * tf.get_static_value(score[prediction_index]))\n",
    "    )\n",
    "else:\n",
    "    count = 1\n",
    "    print(\"This image could be: \\n\")\n",
    "    for i in range(len(score)):\n",
    "        if tf.get_static_value(score[i]) * 100 > 1:\n",
    "            key = list(class_names[i].keys())[0]\n",
    "            value = class_names[i][key]\n",
    "            print(f'{count} - {value} ({key}) : {tf.get_static_value(score[i]) * 100}%')\n",
    "            count = count + 1"
   ]
  },
  {
   "cell_type": "code",
   "execution_count": null,
   "id": "86819a77",
   "metadata": {},
   "outputs": [],
   "source": []
  }
 ],
 "metadata": {
  "kernelspec": {
   "display_name": "Python 3 (ipykernel)",
   "language": "python",
   "name": "python3"
  },
  "language_info": {
   "codemirror_mode": {
    "name": "ipython",
    "version": 3
   },
   "file_extension": ".py",
   "mimetype": "text/x-python",
   "name": "python",
   "nbconvert_exporter": "python",
   "pygments_lexer": "ipython3",
   "version": "3.10.0"
  }
 },
 "nbformat": 4,
 "nbformat_minor": 5
}
