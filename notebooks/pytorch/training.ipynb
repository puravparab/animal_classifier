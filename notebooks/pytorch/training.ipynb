{
 "cells": [
  {
   "cell_type": "markdown",
   "id": "7c67bea7-f8da-4607-ab17-68e4620e0254",
   "metadata": {},
   "source": [
    "## Animal Classifier\n",
    "### Training using pytorch"
   ]
  },
  {
   "cell_type": "code",
   "execution_count": 16,
   "id": "b2a64320-5218-4640-a3e0-2c82303a8789",
   "metadata": {},
   "outputs": [],
   "source": [
    "import torch"
   ]
  },
  {
   "cell_type": "code",
   "execution_count": null,
   "id": "70276ecc-99a2-4b01-8479-d8c1d2213284",
   "metadata": {},
   "outputs": [],
   "source": []
  }
 ],
 "metadata": {
  "kernelspec": {
   "display_name": "Python 3.11 (pytorch)",
   "language": "python",
   "name": "pytorch"
  },
  "language_info": {
   "codemirror_mode": {
    "name": "ipython",
    "version": 3
   },
   "file_extension": ".py",
   "mimetype": "text/x-python",
   "name": "python",
   "nbconvert_exporter": "python",
   "pygments_lexer": "ipython3",
   "version": "3.11.5"
  }
 },
 "nbformat": 4,
 "nbformat_minor": 5
}
